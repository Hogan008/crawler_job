{
 "cells": [
  {
   "cell_type": "code",
   "execution_count": 100,
   "metadata": {},
   "outputs": [],
   "source": [
    "import requests as r\n",
    "import sqlite3\n",
    "import lxml\n",
    "from bs4 import BeautifulSoup\n",
    "import math"
   ]
  },
  {
   "cell_type": "code",
   "execution_count": null,
   "metadata": {
    "collapsed": true
   },
   "outputs": [],
   "source": [
    "# index\n",
    "index = \"https://www.104.com.tw\"\n",
    "\n",
    "# job page list src (page1)\n",
    "# https://www.104.com.tw/jobbank/joblist/auto_joblist.cfm?auto=1&jobsource=n104bank1&ro=0&jobcat=2007000000&order=2&asc=0&page=1&psl=N_A\n",
    "\n",
    "# job href selector\n",
    "# soup.select('div.jobname_summary')[0].select('a')[0]['href']"
   ]
  },
  {
   "cell_type": "code",
   "execution_count": null,
   "metadata": {
    "collapsed": true
   },
   "outputs": [],
   "source": []
  },
  {
   "cell_type": "code",
   "execution_count": 119,
   "metadata": {
    "collapsed": true
   },
   "outputs": [],
   "source": [
    "conn = sqlite3.connect('job.sqlite')\n",
    "c = conn.cursor()"
   ]
  },
  {
   "cell_type": "code",
   "execution_count": 120,
   "metadata": {
    "scrolled": true
   },
   "outputs": [],
   "source": [
    "# jobID\n",
    "# src\n",
    "# done\n",
    "c.execute('''\n",
    "CREATE TABLE job104(\n",
    "  jobID INTEGER PRIMARY KEY AUTOINCREMENT,\n",
    "  title TEXT NOT NULL,\n",
    "  src TEXT NOT NULL,\n",
    "  done TEXT)''')\n",
    "conn.commit()\n",
    "conn.close()"
   ]
  },
  {
   "cell_type": "code",
   "execution_count": null,
   "metadata": {
    "collapsed": true
   },
   "outputs": [],
   "source": []
  },
  {
   "cell_type": "code",
   "execution_count": 22,
   "metadata": {
    "collapsed": true
   },
   "outputs": [],
   "source": []
  },
  {
   "cell_type": "code",
   "execution_count": 107,
   "metadata": {
    "scrolled": true
   },
   "outputs": [
    {
     "name": "stdout",
     "output_type": "stream",
     "text": [
      "Total pages:\n",
      "150\n"
     ]
    }
   ],
   "source": [
    "# number of total job \n",
    "# there are 20 job hrefs in each page\n",
    "# so, if 19974 jobs / 20 ---> 997.35 pages\n",
    "# but we could only get into page 150\n",
    "src = \"https://www.104.com.tw/jobbank/joblist/joblist.cfm?cat=2007000000&jobsource=n104bank1&ro=0\"\n",
    "res = r.get(src)\n",
    "totalPages = int(BeautifulSoup(res.text, 'lxml').select('form#jobform')[0].select('ul')[0].select('li')[0].text.split('筆')[0][1:].strip())\n",
    "res.close()\n",
    "# Web pages fix\n",
    "totalPages = 150 if math.ceil(totalPages / 20)  > 150 else math.ceil(totalPages / 20) \n",
    "print('Total pages:')\n",
    "print(totalPages)"
   ]
  },
  {
   "cell_type": "code",
   "execution_count": null,
   "metadata": {
    "collapsed": true
   },
   "outputs": [],
   "source": []
  },
  {
   "cell_type": "code",
   "execution_count": 126,
   "metadata": {
    "scrolled": true
   },
   "outputs": [
    {
     "name": "stdout",
     "output_type": "stream",
     "text": [
      "資訊工程師\n",
      "https://www.104.com.tw/job/?jobno=3gnxv&jobsource=104_hotorder\n"
     ]
    }
   ],
   "source": [
    "# test get...\n",
    "p = 1\n",
    "src = \"https://www.104.com.tw/jobbank/joblist/auto_joblist.cfm?auto=1&jobsource=n104bank1&ro=0&jobcat=2007000000&order=2&asc=0&page={page}&psl=N_A\".format(page = p)\n",
    "res = r.get(src)\n",
    "soup = BeautifulSoup(res.text, 'lxml')\n",
    "title = soup.select('span')[0].text\n",
    "href = \"https://www.104.com.tw\" + soup.select('div.jobname_summary')[0].select('a')[0]['href']\n",
    "print(title)\n",
    "print(href)\n",
    "\n",
    "res.close()"
   ]
  },
  {
   "cell_type": "code",
   "execution_count": null,
   "metadata": {
    "collapsed": true
   },
   "outputs": [],
   "source": []
  },
  {
   "cell_type": "code",
   "execution_count": 122,
   "metadata": {},
   "outputs": [],
   "source": [
    "try:\n",
    "    conn = sqlite3.connect('job.sqlite')\n",
    "    c = conn.cursor()\n",
    "    upd_sql = \"insert into job104(title, src) values(?, ?)\"\n",
    "    c.execute(upd_sql, (title, href))\n",
    "except ConnectionError as e:\n",
    "    print(e)"
   ]
  },
  {
   "cell_type": "code",
   "execution_count": 125,
   "metadata": {},
   "outputs": [
    {
     "data": {
      "text/plain": [
       "[(1,\n",
       "  '資訊工程師',\n",
       "  'https://www.104.com.tw/job/?jobno=3gnxv&jobsource=104_hotorder',\n",
       "  None)]"
      ]
     },
     "execution_count": 125,
     "metadata": {},
     "output_type": "execute_result"
    }
   ],
   "source": [
    "qry_sql = \"select * from job104\"\n",
    "list(c.execute(qry_sql))"
   ]
  },
  {
   "cell_type": "code",
   "execution_count": 123,
   "metadata": {},
   "outputs": [
    {
     "data": {
      "text/plain": [
       "<sqlite3.Connection at 0x7f29a2cd12d0>"
      ]
     },
     "execution_count": 123,
     "metadata": {},
     "output_type": "execute_result"
    }
   ],
   "source": [
    "conn"
   ]
  },
  {
   "cell_type": "code",
   "execution_count": null,
   "metadata": {
    "collapsed": true
   },
   "outputs": [],
   "source": [
    "# Start Looping...\n",
    "#for p in range(1, totalPages):\n",
    "#    src = \"https://www.104.com.tw/jobbank/joblist/auto_joblist.cfm?auto=1&jobsource=n104bank1&ro=0&jobcat=2007000000&order=2&asc=0&page={page}&psl=N_A\".format(page = p)\n",
    "\n",
    "# res.close()"
   ]
  },
  {
   "cell_type": "code",
   "execution_count": 23,
   "metadata": {},
   "outputs": [
    {
     "data": {
      "text/plain": [
       "'/job/?jobno=4m9ij&jobsource=n104bank1&hotjob_chr='"
      ]
     },
     "execution_count": 23,
     "metadata": {},
     "output_type": "execute_result"
    }
   ],
   "source": [
    "soup.select('div.jobname_summary')[0].select('a')[0]['href']"
   ]
  },
  {
   "cell_type": "code",
   "execution_count": 24,
   "metadata": {},
   "outputs": [
    {
     "data": {
      "text/plain": [
       "'https://www.104.com.tw/job/?jobno=4m9ij&jobsource=n104bank1&hotjob_chr='"
      ]
     },
     "execution_count": 24,
     "metadata": {},
     "output_type": "execute_result"
    }
   ],
   "source": [
    "\"https://www.104.com.tw\" + soup.select('div.jobname_summary')[0].select('a')[0]['href']"
   ]
  }
 ],
 "metadata": {
  "kernelspec": {
   "display_name": "Python 3",
   "language": "python",
   "name": "python3"
  },
  "language_info": {
   "codemirror_mode": {
    "name": "ipython",
    "version": 3
   },
   "file_extension": ".py",
   "mimetype": "text/x-python",
   "name": "python",
   "nbconvert_exporter": "python",
   "pygments_lexer": "ipython3",
   "version": "3.6.1"
  }
 },
 "nbformat": 4,
 "nbformat_minor": 2
}
